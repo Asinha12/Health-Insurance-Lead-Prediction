{
 "cells": [
  {
   "cell_type": "markdown",
   "metadata": {
    "id": "pOCqaZTXl3yi"
   },
   "source": [
    "## HEALTH INSURANCE LEAD PREDICTION\n",
    "\n",
    "For lead prediction, following steps have been done:\n",
    "\n",
    "1- Summarising and visualising data\n",
    "\n",
    "2- Categorising the numeric and categorical variables\n",
    "\n",
    "3- Imputation of missing values\n",
    "\n",
    "4- Handling Outliers\n",
    "\n",
    "5- Creating preprocessing pipelines, train test split for validation purpose\n",
    "\n",
    "6- Training with Random Forest Classifier and Logistic Regression and evaluating validation scores\n",
    "\n",
    "7- Prediction on test data"
   ]
  },
  {
   "cell_type": "code",
   "execution_count": 1,
   "metadata": {
    "id": "nTSPw1Jll3yn"
   },
   "outputs": [],
   "source": [
    "# Necessary imports\n",
    "import pandas as pd\n",
    "import numpy as np\n",
    "import seaborn as sns\n",
    "import matplotlib.pyplot as plt\n",
    "from sklearn.preprocessing import OneHotEncoder\n",
    "from sklearn.pipeline import Pipeline\n",
    "from sklearn.preprocessing import StandardScaler\n",
    "from sklearn.compose import ColumnTransformer\n",
    "from sklearn.impute import SimpleImputer\n",
    "from sklearn.base import BaseEstimator, TransformerMixin\n",
    "from sklearn.model_selection import train_test_split\n",
    "from sklearn.linear_model import LogisticRegression\n",
    "from sklearn.ensemble import RandomForestClassifier\n",
    "from sklearn.metrics import roc_auc_score\n",
    "from sklearn.metrics import classification_report"
   ]
  },
  {
   "cell_type": "code",
   "execution_count": 2,
   "metadata": {
    "id": "YJwyA4fol3yo"
   },
   "outputs": [],
   "source": [
    "# Reading file\n",
    "train=pd.read_csv('train_Df64byy.csv')"
   ]
  },
  {
   "cell_type": "code",
   "execution_count": 3,
   "metadata": {
    "colab": {
     "base_uri": "https://localhost:8080/"
    },
    "id": "41SJo07ml3yo",
    "outputId": "884e6b42-f12d-42eb-cccb-10d0357ffcd3"
   },
   "outputs": [
    {
     "name": "stdout",
     "output_type": "stream",
     "text": [
      "<class 'pandas.core.frame.DataFrame'>\n",
      "RangeIndex: 50882 entries, 0 to 50881\n",
      "Data columns (total 14 columns):\n",
      " #   Column                   Non-Null Count  Dtype  \n",
      "---  ------                   --------------  -----  \n",
      " 0   ID                       50882 non-null  int64  \n",
      " 1   City_Code                50882 non-null  object \n",
      " 2   Region_Code              50882 non-null  int64  \n",
      " 3   Accomodation_Type        50882 non-null  object \n",
      " 4   Reco_Insurance_Type      50882 non-null  object \n",
      " 5   Upper_Age                50882 non-null  int64  \n",
      " 6   Lower_Age                50882 non-null  int64  \n",
      " 7   Is_Spouse                50882 non-null  object \n",
      " 8   Health Indicator         39191 non-null  object \n",
      " 9   Holding_Policy_Duration  30631 non-null  object \n",
      " 10  Holding_Policy_Type      30631 non-null  float64\n",
      " 11  Reco_Policy_Cat          50882 non-null  int64  \n",
      " 12  Reco_Policy_Premium      50882 non-null  float64\n",
      " 13  Response                 50882 non-null  int64  \n",
      "dtypes: float64(2), int64(6), object(6)\n",
      "memory usage: 5.4+ MB\n"
     ]
    }
   ],
   "source": [
    "train.info()"
   ]
  },
  {
   "cell_type": "code",
   "execution_count": 4,
   "metadata": {
    "colab": {
     "base_uri": "https://localhost:8080/",
     "height": 478
    },
    "id": "b3kwsvLQl3yp",
    "outputId": "b76e507c-0529-4d61-900c-c7e031eae273"
   },
   "outputs": [
    {
     "data": {
      "text/html": [
       "<div>\n",
       "<style scoped>\n",
       "    .dataframe tbody tr th:only-of-type {\n",
       "        vertical-align: middle;\n",
       "    }\n",
       "\n",
       "    .dataframe tbody tr th {\n",
       "        vertical-align: top;\n",
       "    }\n",
       "\n",
       "    .dataframe thead th {\n",
       "        text-align: right;\n",
       "    }\n",
       "</style>\n",
       "<table border=\"1\" class=\"dataframe\">\n",
       "  <thead>\n",
       "    <tr style=\"text-align: right;\">\n",
       "      <th></th>\n",
       "      <th>columns</th>\n",
       "      <th>d_types</th>\n",
       "      <th>n_unique</th>\n",
       "      <th>n_nan</th>\n",
       "    </tr>\n",
       "  </thead>\n",
       "  <tbody>\n",
       "    <tr>\n",
       "      <th>0</th>\n",
       "      <td>ID</td>\n",
       "      <td>int64</td>\n",
       "      <td>50882</td>\n",
       "      <td>0</td>\n",
       "    </tr>\n",
       "    <tr>\n",
       "      <th>1</th>\n",
       "      <td>City_Code</td>\n",
       "      <td>object</td>\n",
       "      <td>36</td>\n",
       "      <td>0</td>\n",
       "    </tr>\n",
       "    <tr>\n",
       "      <th>2</th>\n",
       "      <td>Region_Code</td>\n",
       "      <td>int64</td>\n",
       "      <td>5316</td>\n",
       "      <td>0</td>\n",
       "    </tr>\n",
       "    <tr>\n",
       "      <th>3</th>\n",
       "      <td>Accomodation_Type</td>\n",
       "      <td>object</td>\n",
       "      <td>2</td>\n",
       "      <td>0</td>\n",
       "    </tr>\n",
       "    <tr>\n",
       "      <th>4</th>\n",
       "      <td>Reco_Insurance_Type</td>\n",
       "      <td>object</td>\n",
       "      <td>2</td>\n",
       "      <td>0</td>\n",
       "    </tr>\n",
       "    <tr>\n",
       "      <th>5</th>\n",
       "      <td>Upper_Age</td>\n",
       "      <td>int64</td>\n",
       "      <td>58</td>\n",
       "      <td>0</td>\n",
       "    </tr>\n",
       "    <tr>\n",
       "      <th>6</th>\n",
       "      <td>Lower_Age</td>\n",
       "      <td>int64</td>\n",
       "      <td>60</td>\n",
       "      <td>0</td>\n",
       "    </tr>\n",
       "    <tr>\n",
       "      <th>7</th>\n",
       "      <td>Is_Spouse</td>\n",
       "      <td>object</td>\n",
       "      <td>2</td>\n",
       "      <td>0</td>\n",
       "    </tr>\n",
       "    <tr>\n",
       "      <th>8</th>\n",
       "      <td>Health Indicator</td>\n",
       "      <td>object</td>\n",
       "      <td>9</td>\n",
       "      <td>11691</td>\n",
       "    </tr>\n",
       "    <tr>\n",
       "      <th>9</th>\n",
       "      <td>Holding_Policy_Duration</td>\n",
       "      <td>object</td>\n",
       "      <td>15</td>\n",
       "      <td>20251</td>\n",
       "    </tr>\n",
       "    <tr>\n",
       "      <th>10</th>\n",
       "      <td>Holding_Policy_Type</td>\n",
       "      <td>float64</td>\n",
       "      <td>4</td>\n",
       "      <td>20251</td>\n",
       "    </tr>\n",
       "    <tr>\n",
       "      <th>11</th>\n",
       "      <td>Reco_Policy_Cat</td>\n",
       "      <td>int64</td>\n",
       "      <td>22</td>\n",
       "      <td>0</td>\n",
       "    </tr>\n",
       "    <tr>\n",
       "      <th>12</th>\n",
       "      <td>Reco_Policy_Premium</td>\n",
       "      <td>float64</td>\n",
       "      <td>6977</td>\n",
       "      <td>0</td>\n",
       "    </tr>\n",
       "    <tr>\n",
       "      <th>13</th>\n",
       "      <td>Response</td>\n",
       "      <td>int64</td>\n",
       "      <td>2</td>\n",
       "      <td>0</td>\n",
       "    </tr>\n",
       "  </tbody>\n",
       "</table>\n",
       "</div>"
      ],
      "text/plain": [
       "                    columns  d_types  n_unique  n_nan\n",
       "0                        ID    int64     50882      0\n",
       "1                 City_Code   object        36      0\n",
       "2               Region_Code    int64      5316      0\n",
       "3         Accomodation_Type   object         2      0\n",
       "4       Reco_Insurance_Type   object         2      0\n",
       "5                 Upper_Age    int64        58      0\n",
       "6                 Lower_Age    int64        60      0\n",
       "7                 Is_Spouse   object         2      0\n",
       "8          Health Indicator   object         9  11691\n",
       "9   Holding_Policy_Duration   object        15  20251\n",
       "10      Holding_Policy_Type  float64         4  20251\n",
       "11          Reco_Policy_Cat    int64        22      0\n",
       "12      Reco_Policy_Premium  float64      6977      0\n",
       "13                 Response    int64         2      0"
      ]
     },
     "execution_count": 4,
     "metadata": {},
     "output_type": "execute_result"
    }
   ],
   "source": [
    "# Summary of unique values and nan\n",
    "\n",
    "d_types = []\n",
    "n_unique = []\n",
    "n_nan = []\n",
    "for col in train.columns:\n",
    "    d_types.append(train[col].dtypes)\n",
    "    n_unique.append( train[col].nunique())\n",
    "    n_nan.append(train[col].isnull().sum())\n",
    "view = pd.DataFrame({'columns':train.columns , 'd_types':d_types , 'n_unique':n_unique , 'n_nan' : n_nan })\n",
    "view\n",
    "\n"
   ]
  },
  {
   "cell_type": "code",
   "execution_count": 5,
   "metadata": {
    "id": "OExpEITYl3yp"
   },
   "outputs": [],
   "source": [
    "# The following are categorical variables so the dtype needs to be changed\n",
    "train['Region_Code']=train['Region_Code'].astype(object)\n",
    "train['Holding_Policy_Type']=train['Holding_Policy_Type'].astype(object)\n",
    "train['Reco_Policy_Cat']=train['Reco_Policy_Cat'].astype(object)"
   ]
  },
  {
   "cell_type": "code",
   "execution_count": 6,
   "metadata": {
    "colab": {
     "base_uri": "https://localhost:8080/",
     "height": 964
    },
    "id": "7HEFpowAl3yq",
    "outputId": "38dd63ea-628c-4ba5-e6aa-56a75b0fb2a5"
   },
   "outputs": [
    {
     "data": {
      "text/plain": [
       "array([[<matplotlib.axes._subplots.AxesSubplot object at 0x000001671FDECDC0>,\n",
       "        <matplotlib.axes._subplots.AxesSubplot object at 0x000001671FFA72B0>,\n",
       "        <matplotlib.axes._subplots.AxesSubplot object at 0x0000016720626700>,\n",
       "        <matplotlib.axes._subplots.AxesSubplot object at 0x0000016720654B80>,\n",
       "        <matplotlib.axes._subplots.AxesSubplot object at 0x000001672067FFD0>],\n",
       "       [<matplotlib.axes._subplots.AxesSubplot object at 0x0000016720C673A0>,\n",
       "        <matplotlib.axes._subplots.AxesSubplot object at 0x0000016720C67490>,\n",
       "        <matplotlib.axes._subplots.AxesSubplot object at 0x0000016720C94940>,\n",
       "        <matplotlib.axes._subplots.AxesSubplot object at 0x0000016720CF8190>,\n",
       "        <matplotlib.axes._subplots.AxesSubplot object at 0x0000016720D265E0>],\n",
       "       [<matplotlib.axes._subplots.AxesSubplot object at 0x0000016720D52A60>,\n",
       "        <matplotlib.axes._subplots.AxesSubplot object at 0x0000016720D7FEB0>,\n",
       "        <matplotlib.axes._subplots.AxesSubplot object at 0x0000016720DB7340>,\n",
       "        <matplotlib.axes._subplots.AxesSubplot object at 0x0000016720DE1790>,\n",
       "        <matplotlib.axes._subplots.AxesSubplot object at 0x0000016720E0CBE0>],\n",
       "       [<matplotlib.axes._subplots.AxesSubplot object at 0x0000016720E38100>,\n",
       "        <matplotlib.axes._subplots.AxesSubplot object at 0x0000016720E74520>,\n",
       "        <matplotlib.axes._subplots.AxesSubplot object at 0x0000016720EA1970>,\n",
       "        <matplotlib.axes._subplots.AxesSubplot object at 0x0000016720ECEDC0>,\n",
       "        <matplotlib.axes._subplots.AxesSubplot object at 0x0000016720F06250>],\n",
       "       [<matplotlib.axes._subplots.AxesSubplot object at 0x0000016720F2F6A0>,\n",
       "        <matplotlib.axes._subplots.AxesSubplot object at 0x0000016720F5DB50>,\n",
       "        <matplotlib.axes._subplots.AxesSubplot object at 0x0000016720F8BFA0>,\n",
       "        <matplotlib.axes._subplots.AxesSubplot object at 0x0000016720FC3490>,\n",
       "        <matplotlib.axes._subplots.AxesSubplot object at 0x0000016720FF08E0>]],\n",
       "      dtype=object)"
      ]
     },
     "execution_count": 6,
     "metadata": {},
     "output_type": "execute_result"
    },
    {
     "data": {
      "image/png": "[encoded data removed]",
      "text/plain": [
       "<Figure size 864x576 with 25 Axes>"
      ]
     },
     "metadata": {
      "needs_background": "light"
     },
     "output_type": "display_data"
    }
   ],
   "source": [
    "# Visualising numerical variables\n",
    "from pandas.plotting import scatter_matrix   \n",
    "scatter_matrix(train , figsize=(12,8))"
   ]
  },
  {
   "cell_type": "markdown",
   "metadata": {
    "id": "8kn6lTmOl3yq"
   },
   "source": [
    "The numeric variables are not normally distributed"
   ]
  },
  {
   "cell_type": "code",
   "execution_count": 7,
   "metadata": {
    "colab": {
     "base_uri": "https://localhost:8080/",
     "height": 294
    },
    "id": "OScU9Myql3yq",
    "outputId": "9bfe150f-bbb8-4aca-83c3-fd2343332977"
   },
   "outputs": [
    {
     "data": {
      "text/html": [
       "<div>\n",
       "<style scoped>\n",
       "    .dataframe tbody tr th:only-of-type {\n",
       "        vertical-align: middle;\n",
       "    }\n",
       "\n",
       "    .dataframe tbody tr th {\n",
       "        vertical-align: top;\n",
       "    }\n",
       "\n",
       "    .dataframe thead th {\n",
       "        text-align: right;\n",
       "    }\n",
       "</style>\n",
       "<table border=\"1\" class=\"dataframe\">\n",
       "  <thead>\n",
       "    <tr style=\"text-align: right;\">\n",
       "      <th></th>\n",
       "      <th>ID</th>\n",
       "      <th>Upper_Age</th>\n",
       "      <th>Lower_Age</th>\n",
       "      <th>Reco_Policy_Premium</th>\n",
       "      <th>Response</th>\n",
       "    </tr>\n",
       "  </thead>\n",
       "  <tbody>\n",
       "    <tr>\n",
       "      <th>count</th>\n",
       "      <td>50882.000000</td>\n",
       "      <td>50882.000000</td>\n",
       "      <td>50882.000000</td>\n",
       "      <td>50882.000000</td>\n",
       "      <td>50882.000000</td>\n",
       "    </tr>\n",
       "    <tr>\n",
       "      <th>mean</th>\n",
       "      <td>25441.500000</td>\n",
       "      <td>44.856275</td>\n",
       "      <td>42.738866</td>\n",
       "      <td>14183.950069</td>\n",
       "      <td>0.239947</td>\n",
       "    </tr>\n",
       "    <tr>\n",
       "      <th>std</th>\n",
       "      <td>14688.512535</td>\n",
       "      <td>17.310271</td>\n",
       "      <td>17.319375</td>\n",
       "      <td>6590.074873</td>\n",
       "      <td>0.427055</td>\n",
       "    </tr>\n",
       "    <tr>\n",
       "      <th>min</th>\n",
       "      <td>1.000000</td>\n",
       "      <td>18.000000</td>\n",
       "      <td>16.000000</td>\n",
       "      <td>2280.000000</td>\n",
       "      <td>0.000000</td>\n",
       "    </tr>\n",
       "    <tr>\n",
       "      <th>25%</th>\n",
       "      <td>12721.250000</td>\n",
       "      <td>28.000000</td>\n",
       "      <td>27.000000</td>\n",
       "      <td>9248.000000</td>\n",
       "      <td>0.000000</td>\n",
       "    </tr>\n",
       "    <tr>\n",
       "      <th>50%</th>\n",
       "      <td>25441.500000</td>\n",
       "      <td>44.000000</td>\n",
       "      <td>40.000000</td>\n",
       "      <td>13178.000000</td>\n",
       "      <td>0.000000</td>\n",
       "    </tr>\n",
       "    <tr>\n",
       "      <th>75%</th>\n",
       "      <td>38161.750000</td>\n",
       "      <td>59.000000</td>\n",
       "      <td>57.000000</td>\n",
       "      <td>18096.000000</td>\n",
       "      <td>0.000000</td>\n",
       "    </tr>\n",
       "    <tr>\n",
       "      <th>max</th>\n",
       "      <td>50882.000000</td>\n",
       "      <td>75.000000</td>\n",
       "      <td>75.000000</td>\n",
       "      <td>43350.400000</td>\n",
       "      <td>1.000000</td>\n",
       "    </tr>\n",
       "  </tbody>\n",
       "</table>\n",
       "</div>"
      ],
      "text/plain": [
       "                 ID     Upper_Age     Lower_Age  Reco_Policy_Premium  \\\n",
       "count  50882.000000  50882.000000  50882.000000         50882.000000   \n",
       "mean   25441.500000     44.856275     42.738866         14183.950069   \n",
       "std    14688.512535     17.310271     17.319375          6590.074873   \n",
       "min        1.000000     18.000000     16.000000          2280.000000   \n",
       "25%    12721.250000     28.000000     27.000000          9248.000000   \n",
       "50%    25441.500000     44.000000     40.000000         13178.000000   \n",
       "75%    38161.750000     59.000000     57.000000         18096.000000   \n",
       "max    50882.000000     75.000000     75.000000         43350.400000   \n",
       "\n",
       "           Response  \n",
       "count  50882.000000  \n",
       "mean       0.239947  \n",
       "std        0.427055  \n",
       "min        0.000000  \n",
       "25%        0.000000  \n",
       "50%        0.000000  \n",
       "75%        0.000000  \n",
       "max        1.000000  "
      ]
     },
     "execution_count": 7,
     "metadata": {},
     "output_type": "execute_result"
    }
   ],
   "source": [
    "# Summary of numeric columns\n",
    "train.describe()"
   ]
  },
  {
   "cell_type": "code",
   "execution_count": 8,
   "metadata": {
    "colab": {
     "base_uri": "https://localhost:8080/"
    },
    "id": "ykzIp0enl3yr",
    "outputId": "37c3c248-926d-44bd-adc5-d9604b403c26"
   },
   "outputs": [
    {
     "data": {
      "text/plain": [
       "Index(['ID', 'City_Code', 'Region_Code', 'Accomodation_Type',\n",
       "       'Reco_Insurance_Type', 'Upper_Age', 'Lower_Age', 'Is_Spouse',\n",
       "       'Health Indicator', 'Holding_Policy_Duration', 'Holding_Policy_Type',\n",
       "       'Reco_Policy_Cat', 'Reco_Policy_Premium', 'Response'],\n",
       "      dtype='object')"
      ]
     },
     "execution_count": 8,
     "metadata": {},
     "output_type": "execute_result"
    }
   ],
   "source": [
    "train.columns"
   ]
  },
  {
   "cell_type": "code",
   "execution_count": 9,
   "metadata": {
    "id": "X7Smp-D5l3yr"
   },
   "outputs": [],
   "source": [
    "# Renaming column for uniformity\n",
    "train=train.rename(columns={'Health Indicator': 'Health_Indicator'})"
   ]
  },
  {
   "cell_type": "code",
   "execution_count": 10,
   "metadata": {
    "id": "_7FARkwNl3yr",
    "outputId": "5381d219-c9a1-43eb-fbc4-6dc6aa9cfa95"
   },
   "outputs": [
    {
     "name": "stdout",
     "output_type": "stream",
     "text": [
      "<class 'pandas.core.frame.DataFrame'>\n",
      "RangeIndex: 50882 entries, 0 to 50881\n",
      "Data columns (total 14 columns):\n",
      " #   Column                   Non-Null Count  Dtype  \n",
      "---  ------                   --------------  -----  \n",
      " 0   ID                       50882 non-null  int64  \n",
      " 1   City_Code                50882 non-null  object \n",
      " 2   Region_Code              50882 non-null  object \n",
      " 3   Accomodation_Type        50882 non-null  object \n",
      " 4   Reco_Insurance_Type      50882 non-null  object \n",
      " 5   Upper_Age                50882 non-null  int64  \n",
      " 6   Lower_Age                50882 non-null  int64  \n",
      " 7   Is_Spouse                50882 non-null  object \n",
      " 8   Health_Indicator         39191 non-null  object \n",
      " 9   Holding_Policy_Duration  30631 non-null  object \n",
      " 10  Holding_Policy_Type      30631 non-null  object \n",
      " 11  Reco_Policy_Cat          50882 non-null  object \n",
      " 12  Reco_Policy_Premium      50882 non-null  float64\n",
      " 13  Response                 50882 non-null  int64  \n",
      "dtypes: float64(1), int64(4), object(9)\n",
      "memory usage: 5.4+ MB\n"
     ]
    }
   ],
   "source": [
    "train.info()"
   ]
  },
  {
   "cell_type": "code",
   "execution_count": 11,
   "metadata": {
    "id": "3PwU6i7Ul3yr"
   },
   "outputs": [],
   "source": [
    "# Creating seperate list for numerical variables(numlist) and categorical variables(catlist)\n",
    "# Creating seperate list for numerical variables(numlist) and categorical variables(catlist)\n",
    "numlist=['Upper_Age', 'Lower_Age', 'Reco_Policy_Premium']\n",
    "catlist=[ 'City_Code', 'Region_Code', 'Accomodation_Type',\n",
    "       'Reco_Insurance_Type',  'Is_Spouse',\n",
    "       'Health_Indicator', 'Holding_Policy_Duration', 'Holding_Policy_Type',\n",
    "       'Reco_Policy_Cat']"
   ]
  },
  {
   "cell_type": "code",
   "execution_count": 12,
   "metadata": {
    "colab": {
     "base_uri": "https://localhost:8080/",
     "height": 1000
    },
    "id": "xHcbcDXvl3ys",
    "outputId": "6eef0e41-c0d9-49b4-80fb-72c517217380"
   },
   "outputs": [
    {
     "data": {
      "image/png": "[encoded data removed]",
      "text/plain": [
       "<Figure size 864x432 with 1 Axes>"
      ]
     },
     "metadata": {
      "needs_background": "light"
     },
     "output_type": "display_data"
    },
    {
     "data": {
      "image/png": "[encoded data removed]",
      "text/plain": [
       "<Figure size 864x432 with 1 Axes>"
      ]
     },
     "metadata": {
      "needs_background": "light"
     },
     "output_type": "display_data"
    },
    {
     "data": {
      "image/png": "[encoded data removed]",
      "text/plain": [
       "<Figure size 864x432 with 1 Axes>"
      ]
     },
     "metadata": {
      "needs_background": "light"
     },
     "output_type": "display_data"
    },
    {
     "data": {
      "image/png": "[encoded data removed]",
      "text/plain": [
       "<Figure size 864x432 with 1 Axes>"
      ]
     },
     "metadata": {
      "needs_background": "light"
     },
     "output_type": "display_data"
    },
    {
     "data": {
      "image/png": "[encoded data removed]",
      "text/plain": [
       "<Figure size 864x432 with 1 Axes>"
      ]
     },
     "metadata": {
      "needs_background": "light"
     },
     "output_type": "display_data"
    },
    {
     "data": {
      "image/png": "[encoded data removed]",
      "text/plain": [
       "<Figure size 864x432 with 1 Axes>"
      ]
     },
     "metadata": {
      "needs_background": "light"
     },
     "output_type": "display_data"
    },
    {
     "data": {
      "image/png": "[encoded data removed]",
      "text/plain": [
       "<Figure size 864x432 with 1 Axes>"
      ]
     },
     "metadata": {
      "needs_background": "light"
     },
     "output_type": "display_data"
    },
    {
     "data": {
      "image/png": "[encoded data removed]",
      "text/plain": [
       "<Figure size 864x432 with 1 Axes>"
      ]
     },
     "metadata": {
      "needs_background": "light"
     },
     "output_type": "display_data"
    },
    {
     "data": {
      "image/png": "[encoded data removed]",
      "text/plain": [
       "<Figure size 864x432 with 1 Axes>"
      ]
     },
     "metadata": {
      "needs_background": "light"
     },
     "output_type": "display_data"
    }
   ],
   "source": [
    "# Visualising categorical variables\n",
    "for col in train[catlist].columns:\n",
    "    plt.figure(figsize=(12,6))\n",
    "    sns.countplot(train[col], hue=train['Response'])"
   ]
  },
  {
   "cell_type": "code",
   "execution_count": 13,
   "metadata": {},
   "outputs": [
    {
     "data": {
      "text/plain": [
       "<matplotlib.axes._subplots.AxesSubplot at 0x1672bbd9430>"
      ]
     },
     "execution_count": 13,
     "metadata": {},
     "output_type": "execute_result"
    },
    {
     "data": {
      "image/png": "[encoded data removed]",
      "text/plain": [
       "<Figure size 432x288 with 1 Axes>"
      ]
     },
     "metadata": {
      "needs_background": "light"
     },
     "output_type": "display_data"
    }
   ],
   "source": [
    "sns.countplot(train['Response'])"
   ]
  },
  {
   "cell_type": "markdown",
   "metadata": {
    "id": "qSvqXqSsl3yt"
   },
   "source": [
    "CLASS IMBALANCE:\n",
    "Since there is more representation of 1 class, which is more that the double of 1 class, there is class imbalance. "
   ]
  },
  {
   "cell_type": "markdown",
   "metadata": {
    "id": "cZCqBzRCl3yu"
   },
   "source": [
    "#### IMPUTATION OF MISSING VALUES\n",
    "The missing values are imputed with suitable values that create a seperate category. Category X0 in Health Indicator variable represents 'no information regarding health'. Category 0.0 in Holding policy duration variable represents 'no current policy', similarly category 0 in Holding policy Type represents ' no current policy' "
   ]
  },
  {
   "cell_type": "code",
   "execution_count": 14,
   "metadata": {},
   "outputs": [
    {
     "name": "stdout",
     "output_type": "stream",
     "text": [
      "City_Code <class 'str'>\n",
      "Region_Code <class 'int'>\n",
      "Accomodation_Type <class 'str'>\n",
      "Reco_Insurance_Type <class 'str'>\n",
      "Is_Spouse <class 'str'>\n",
      "Health_Indicator <class 'str'>\n",
      "Holding_Policy_Duration <class 'str'>\n",
      "Holding_Policy_Type <class 'float'>\n",
      "Reco_Policy_Cat <class 'int'>\n"
     ]
    }
   ],
   "source": [
    "for col in train[catlist].columns:\n",
    "    print(col, type(train[col][0]))"
   ]
  },
  {
   "cell_type": "code",
   "execution_count": 15,
   "metadata": {
    "id": "jvsRJR7Jl3yv"
   },
   "outputs": [],
   "source": [
    "\n",
    "train['Health_Indicator']=train['Health_Indicator'].fillna('X0')\n",
    "train['Holding_Policy_Duration']=train['Holding_Policy_Duration'].fillna('0')\n",
    "train['Holding_Policy_Type']=train['Holding_Policy_Type'].fillna(0.0)"
   ]
  },
  {
   "cell_type": "markdown",
   "metadata": {
    "id": "3ufZ3JhGl3yv"
   },
   "source": [
    "#### TREATMENT OF OUTLIERS\n",
    "There are many columns with very high percentage of outliers in upper range. We can impute these values with 75th quartile value plus 1.5 times inter quartile range. Similarly the lower range outliers can be imputed with 25th quartile value minus 1.5 times interquartile range. For performing this we create the following class"
   ]
  },
  {
   "cell_type": "code",
   "execution_count": 16,
   "metadata": {
    "id": "IvGHgtpSl3yv"
   },
   "outputs": [],
   "source": [
    "class treat_outliers_by_iqr_range(BaseEstimator, TransformerMixin):\n",
    "    def fit(self,X,y=None):\n",
    "        self.stats=X.describe(include=np.number)\n",
    "        self.iqr_dict={}\n",
    "        for col in self.stats.columns:\n",
    "            iqr=self.stats.loc['75%', col]-self.stats.loc['25%', col]\n",
    "            upper=self.stats.loc['75%', col]+ 1.5*iqr\n",
    "            lower=self.stats.loc['25%', col]- 1.5*iqr\n",
    "            self.iqr_dict[col]=(lower,upper)\n",
    "        return self\n",
    "    def transform(self, X, y=None):\n",
    "        # stats includes median data and the columns for which transformations are to be done\n",
    "        for col in self.stats.columns:\n",
    "            X[col]=X[col].apply(lambda x : np.where(x>self.iqr_dict[col][1], self.iqr_dict[col][1], x))\n",
    "            X[col]=X[col].apply(lambda x : np.where(x<self.iqr_dict[col][0], self.iqr_dict[col][0], x))\n",
    "        return X"
   ]
  },
  {
   "cell_type": "markdown",
   "metadata": {
    "id": "nIzUu5MAl3yv"
   },
   "source": [
    "#### CREATING PREPROCESSING PIPELINE AND SPLITTING DATA INTO TRAIN AND TEST SET"
   ]
  },
  {
   "cell_type": "code",
   "execution_count": 17,
   "metadata": {
    "id": "MCeLjNIAl3yv"
   },
   "outputs": [],
   "source": [
    "# PREPROCESSING PIPELINE\n",
    "num_pipeline=Pipeline([('outliers', treat_outliers_by_iqr_range()),('imputer', SimpleImputer(strategy='mean')),('scaler', StandardScaler()),])\n",
    "cat_pipeline=Pipeline([('cat', OneHotEncoder(handle_unknown='ignore')),])\n",
    "full_pipeline=ColumnTransformer([('num', num_pipeline,numlist), ('cat', cat_pipeline, catlist),])"
   ]
  },
  {
   "cell_type": "code",
   "execution_count": 18,
   "metadata": {
    "id": "TlgkDKKXl3yw"
   },
   "outputs": [],
   "source": [
    "# Train-test split\n",
    "X = train.drop(['ID','Response'], axis=1)\n",
    "y = train['Response'].values\n",
    "X_train, X_test, y_train, y_test = train_test_split(X,y, test_size=.30, random_state=3)"
   ]
  },
  {
   "cell_type": "code",
   "execution_count": 19,
   "metadata": {
    "colab": {
     "base_uri": "https://localhost:8080/"
    },
    "id": "PSX6r9g6l3yw",
    "outputId": "5bc49414-2ebd-4832-b05f-4421cfa3c442"
   },
   "outputs": [
    {
     "name": "stdout",
     "output_type": "stream",
     "text": [
      "City_Code 36\n",
      "Region_Code 5048\n",
      "Accomodation_Type 2\n",
      "Reco_Insurance_Type 2\n",
      "Upper_Age 58\n",
      "Lower_Age 60\n",
      "Is_Spouse 2\n",
      "Health_Indicator 10\n",
      "Holding_Policy_Duration 16\n",
      "Holding_Policy_Type 5\n",
      "Reco_Policy_Cat 22\n",
      "Reco_Policy_Premium 6227\n"
     ]
    }
   ],
   "source": [
    "for col in X_train.columns:\n",
    "    print(col, X_train[col].nunique())"
   ]
  },
  {
   "cell_type": "code",
   "execution_count": 20,
   "metadata": {
    "id": "mcyCueTSl3yw"
   },
   "outputs": [],
   "source": [
    "X_train=full_pipeline.fit_transform(X_train)\n",
    "X_test=full_pipeline.transform(X_test)"
   ]
  },
  {
   "cell_type": "code",
   "execution_count": 21,
   "metadata": {},
   "outputs": [],
   "source": [
    "# Oversampling with SMOTE to take care of imbalanced class\n",
    "from imblearn.over_sampling import SMOTE\n",
    "smote=SMOTE(random_state=42)\n",
    "X_train, y_train= smote.fit_resample(X_train, y_train)"
   ]
  },
  {
   "cell_type": "code",
   "execution_count": 22,
   "metadata": {
    "scrolled": true
   },
   "outputs": [
    {
     "data": {
      "text/plain": [
       "<matplotlib.axes._subplots.AxesSubplot at 0x167231c0d30>"
      ]
     },
     "execution_count": 22,
     "metadata": {},
     "output_type": "execute_result"
    },
    {
     "data": {
      "image/png": "[encoded data removed]",
      "text/plain": [
       "<Figure size 432x288 with 1 Axes>"
      ]
     },
     "metadata": {
      "needs_background": "light"
     },
     "output_type": "display_data"
    }
   ],
   "source": [
    "sns.countplot(y_train)"
   ]
  },
  {
   "cell_type": "markdown",
   "metadata": {
    "id": "JdxFPJz_l3yw"
   },
   "source": [
    "#### TRAINING WITH RANDOM FOREST CLASSIFIER"
   ]
  },
  {
   "cell_type": "code",
   "execution_count": 23,
   "metadata": {
    "id": "69tEojv3l3yx",
    "outputId": "d40dea87-0460-4aa3-d283-c0ddd70ded02"
   },
   "outputs": [
    {
     "data": {
      "text/plain": [
       "RandomForestClassifier()"
      ]
     },
     "execution_count": 23,
     "metadata": {},
     "output_type": "execute_result"
    }
   ],
   "source": [
    "rf = RandomForestClassifier()\n",
    "rf.fit(X_train,y_train)"
   ]
  },
  {
   "cell_type": "code",
   "execution_count": 24,
   "metadata": {
    "id": "HNIS-t6_l3yx",
    "outputId": "8389f838-eef5-4613-d6a1-a66322d8c364"
   },
   "outputs": [
    {
     "name": "stdout",
     "output_type": "stream",
     "text": [
      "1.0\n"
     ]
    }
   ],
   "source": [
    "# ROC SCORE ON TRAINSET PREDICTION\n",
    "train_pred=rf.predict(X_train)\n",
    "print(roc_auc_score(y_train, train_pred))"
   ]
  },
  {
   "cell_type": "code",
   "execution_count": 25,
   "metadata": {
    "id": "HmNOTA3yl3yx",
    "outputId": "6180eed7-36b8-4464-c8ce-fcb8fd921819"
   },
   "outputs": [
    {
     "name": "stdout",
     "output_type": "stream",
     "text": [
      "              precision    recall  f1-score   support\n",
      "\n",
      "           0       1.00      1.00      1.00     27017\n",
      "           1       1.00      1.00      1.00     27017\n",
      "\n",
      "    accuracy                           1.00     54034\n",
      "   macro avg       1.00      1.00      1.00     54034\n",
      "weighted avg       1.00      1.00      1.00     54034\n",
      "\n"
     ]
    }
   ],
   "source": [
    "# CLASSIFICATION REPORT OF TRAIN SET PREDICTIONS\n",
    "print(classification_report(y_train, train_pred))"
   ]
  },
  {
   "cell_type": "code",
   "execution_count": 26,
   "metadata": {
    "id": "hKOHoFpIl3yx",
    "outputId": "2f5819a0-c92f-455e-b16b-e7309ebcfd1e"
   },
   "outputs": [
    {
     "name": "stdout",
     "output_type": "stream",
     "text": [
      "0.5249891338724035\n"
     ]
    }
   ],
   "source": [
    "# ROC SCORE ON TEST SET PREDICTION\n",
    "test_pred=rf.predict(X_test)\n",
    "print(roc_auc_score(y_test, test_pred))"
   ]
  },
  {
   "cell_type": "code",
   "execution_count": 27,
   "metadata": {
    "id": "SD414lxjl3yy",
    "outputId": "f4a831d5-309c-4767-cd5e-89b0403e7bf8"
   },
   "outputs": [
    {
     "name": "stdout",
     "output_type": "stream",
     "text": [
      "              precision    recall  f1-score   support\n",
      "\n",
      "           0       0.77      0.97      0.86     11656\n",
      "           1       0.46      0.08      0.13      3609\n",
      "\n",
      "    accuracy                           0.76     15265\n",
      "   macro avg       0.62      0.52      0.50     15265\n",
      "weighted avg       0.70      0.76      0.69     15265\n",
      "\n"
     ]
    }
   ],
   "source": [
    "# CLASSIFICATION REPORT OF TEST SET PREDICTIONS\n",
    "print(classification_report(y_test, test_pred))"
   ]
  },
  {
   "cell_type": "markdown",
   "metadata": {},
   "source": [
    "This model overfits"
   ]
  },
  {
   "cell_type": "markdown",
   "metadata": {
    "id": "LXWmNSGfl3yy"
   },
   "source": [
    "#### TRAINING WITH LOGISTIC REGRESSION"
   ]
  },
  {
   "cell_type": "code",
   "execution_count": 28,
   "metadata": {
    "colab": {
     "base_uri": "https://localhost:8080/"
    },
    "id": "F97uMdUhl3yy",
    "outputId": "8057c16d-1c60-4ac9-cae8-6ab531a97da9",
    "scrolled": true
   },
   "outputs": [
    {
     "data": {
      "text/plain": [
       "LogisticRegression(C=1, max_iter=500)"
      ]
     },
     "execution_count": 28,
     "metadata": {},
     "output_type": "execute_result"
    }
   ],
   "source": [
    "lr = LogisticRegression(max_iter=500, C=1)\n",
    "lr.fit(X_train,y_train)"
   ]
  },
  {
   "cell_type": "code",
   "execution_count": 29,
   "metadata": {
    "colab": {
     "base_uri": "https://localhost:8080/"
    },
    "id": "XOVTe9Fll3yy",
    "outputId": "ac985c6e-6e73-4c01-f416-9d46976fc5d3"
   },
   "outputs": [
    {
     "name": "stdout",
     "output_type": "stream",
     "text": [
      "0.7254691490542992\n"
     ]
    }
   ],
   "source": [
    "# ROC SCORE ON TRAIN SET PREDICTIONS\n",
    "train_pred=lr.predict(X_train)\n",
    "print(roc_auc_score(y_train, train_pred))"
   ]
  },
  {
   "cell_type": "code",
   "execution_count": 30,
   "metadata": {
    "colab": {
     "base_uri": "https://localhost:8080/"
    },
    "id": "b0TSrUwil3yy",
    "outputId": "5b2d4e72-e422-4014-cbf2-a4d68114e070"
   },
   "outputs": [
    {
     "name": "stdout",
     "output_type": "stream",
     "text": [
      "              precision    recall  f1-score   support\n",
      "\n",
      "           0       0.74      0.69      0.72     27017\n",
      "           1       0.71      0.76      0.73     27017\n",
      "\n",
      "    accuracy                           0.73     54034\n",
      "   macro avg       0.73      0.73      0.73     54034\n",
      "weighted avg       0.73      0.73      0.73     54034\n",
      "\n"
     ]
    }
   ],
   "source": [
    "# CLASSIFICATION REPORT OF TRAIN SET PREDICTIONS\n",
    "print(classification_report(y_train, train_pred))"
   ]
  },
  {
   "cell_type": "code",
   "execution_count": 31,
   "metadata": {
    "colab": {
     "base_uri": "https://localhost:8080/"
    },
    "id": "mXYgNtq4l3yz",
    "outputId": "38af9445-0526-4eaf-e950-5ecfd9e3349b"
   },
   "outputs": [
    {
     "name": "stdout",
     "output_type": "stream",
     "text": [
      "0.5707097266746959\n"
     ]
    }
   ],
   "source": [
    "# ROC SCORE ON TEST SET PREDICTIONS\n",
    "test_pred=lr.predict(X_test)\n",
    "print(roc_auc_score(y_test, test_pred))"
   ]
  },
  {
   "cell_type": "code",
   "execution_count": 32,
   "metadata": {
    "colab": {
     "base_uri": "https://localhost:8080/"
    },
    "id": "UMaGCVLVl3yz",
    "outputId": "786404c7-ec95-4d71-ad52-9a32c11422a1"
   },
   "outputs": [
    {
     "name": "stdout",
     "output_type": "stream",
     "text": [
      "              precision    recall  f1-score   support\n",
      "\n",
      "           0       0.81      0.64      0.71     11656\n",
      "           1       0.30      0.50      0.38      3609\n",
      "\n",
      "    accuracy                           0.61     15265\n",
      "   macro avg       0.55      0.57      0.55     15265\n",
      "weighted avg       0.69      0.61      0.63     15265\n",
      "\n"
     ]
    }
   ],
   "source": [
    "# CLASSIFICATION REPORT OF TEST SET PREDICTIONS\n",
    "print(classification_report(y_test, test_pred))"
   ]
  },
  {
   "cell_type": "markdown",
   "metadata": {
    "id": "4SowmCU3l3y0"
   },
   "source": [
    "#### PREDICTIONS OF TEST DATA"
   ]
  },
  {
   "cell_type": "code",
   "execution_count": 33,
   "metadata": {
    "id": "QxANfixil3y0"
   },
   "outputs": [],
   "source": [
    "submission=pd.read_csv('sample_submission_QrCyCoT.csv')\n"
   ]
  },
  {
   "cell_type": "code",
   "execution_count": 34,
   "metadata": {
    "colab": {
     "base_uri": "https://localhost:8080/",
     "height": 415
    },
    "id": "s2Gt71o7l3y0",
    "outputId": "cbe124e8-7def-43cd-fbc2-289c22723f4f"
   },
   "outputs": [
    {
     "data": {
      "text/html": [
       "<div>\n",
       "<style scoped>\n",
       "    .dataframe tbody tr th:only-of-type {\n",
       "        vertical-align: middle;\n",
       "    }\n",
       "\n",
       "    .dataframe tbody tr th {\n",
       "        vertical-align: top;\n",
       "    }\n",
       "\n",
       "    .dataframe thead th {\n",
       "        text-align: right;\n",
       "    }\n",
       "</style>\n",
       "<table border=\"1\" class=\"dataframe\">\n",
       "  <thead>\n",
       "    <tr style=\"text-align: right;\">\n",
       "      <th></th>\n",
       "      <th>ID</th>\n",
       "      <th>Response</th>\n",
       "    </tr>\n",
       "  </thead>\n",
       "  <tbody>\n",
       "    <tr>\n",
       "      <th>0</th>\n",
       "      <td>50883</td>\n",
       "      <td>0</td>\n",
       "    </tr>\n",
       "    <tr>\n",
       "      <th>1</th>\n",
       "      <td>50884</td>\n",
       "      <td>0</td>\n",
       "    </tr>\n",
       "    <tr>\n",
       "      <th>2</th>\n",
       "      <td>50885</td>\n",
       "      <td>0</td>\n",
       "    </tr>\n",
       "    <tr>\n",
       "      <th>3</th>\n",
       "      <td>50886</td>\n",
       "      <td>0</td>\n",
       "    </tr>\n",
       "    <tr>\n",
       "      <th>4</th>\n",
       "      <td>50887</td>\n",
       "      <td>0</td>\n",
       "    </tr>\n",
       "    <tr>\n",
       "      <th>...</th>\n",
       "      <td>...</td>\n",
       "      <td>...</td>\n",
       "    </tr>\n",
       "    <tr>\n",
       "      <th>21800</th>\n",
       "      <td>72683</td>\n",
       "      <td>0</td>\n",
       "    </tr>\n",
       "    <tr>\n",
       "      <th>21801</th>\n",
       "      <td>72684</td>\n",
       "      <td>0</td>\n",
       "    </tr>\n",
       "    <tr>\n",
       "      <th>21802</th>\n",
       "      <td>72685</td>\n",
       "      <td>0</td>\n",
       "    </tr>\n",
       "    <tr>\n",
       "      <th>21803</th>\n",
       "      <td>72686</td>\n",
       "      <td>0</td>\n",
       "    </tr>\n",
       "    <tr>\n",
       "      <th>21804</th>\n",
       "      <td>72687</td>\n",
       "      <td>0</td>\n",
       "    </tr>\n",
       "  </tbody>\n",
       "</table>\n",
       "<p>21805 rows × 2 columns</p>\n",
       "</div>"
      ],
      "text/plain": [
       "          ID  Response\n",
       "0      50883         0\n",
       "1      50884         0\n",
       "2      50885         0\n",
       "3      50886         0\n",
       "4      50887         0\n",
       "...      ...       ...\n",
       "21800  72683         0\n",
       "21801  72684         0\n",
       "21802  72685         0\n",
       "21803  72686         0\n",
       "21804  72687         0\n",
       "\n",
       "[21805 rows x 2 columns]"
      ]
     },
     "execution_count": 34,
     "metadata": {},
     "output_type": "execute_result"
    }
   ],
   "source": [
    "submission"
   ]
  },
  {
   "cell_type": "code",
   "execution_count": 35,
   "metadata": {
    "id": "B1ABfQVnl3y1"
   },
   "outputs": [],
   "source": [
    "test = pd.read_csv('test_YCcRUnU.csv')"
   ]
  },
  {
   "cell_type": "markdown",
   "metadata": {
    "id": "b-LuoVvRl3y1"
   },
   "source": [
    "#### PREPROCESSING TEST DATA"
   ]
  },
  {
   "cell_type": "code",
   "execution_count": 36,
   "metadata": {
    "id": "UTK6uKGll3y1"
   },
   "outputs": [],
   "source": [
    "test['Region_Code']=test['Region_Code'].astype(object)\n",
    "test['Holding_Policy_Type']=test['Holding_Policy_Type'].astype(object)\n",
    "test['Reco_Policy_Cat']=test['Reco_Policy_Cat'].astype(object)\n"
   ]
  },
  {
   "cell_type": "code",
   "execution_count": 37,
   "metadata": {
    "id": "zJDdKokZl3y1"
   },
   "outputs": [],
   "source": [
    "test=test.rename(columns={'Health Indicator': 'Health_Indicator'})"
   ]
  },
  {
   "cell_type": "code",
   "execution_count": 38,
   "metadata": {
    "id": "Gb61a7Myl3y1"
   },
   "outputs": [],
   "source": [
    "test['Health_Indicator']=test['Health_Indicator'].fillna('X0')\n",
    "test['Holding_Policy_Duration']=test['Holding_Policy_Duration'].fillna('0.0')\n",
    "test['Holding_Policy_Type']=test['Holding_Policy_Type'].fillna(0)"
   ]
  },
  {
   "cell_type": "code",
   "execution_count": 39,
   "metadata": {
    "id": "Fn0juHMXl3y2",
    "scrolled": false
   },
   "outputs": [],
   "source": [
    "test_set=full_pipeline.transform(test.drop(['ID'], axis=1))"
   ]
  },
  {
   "cell_type": "code",
   "execution_count": 40,
   "metadata": {
    "id": "CCHhmJsxl3y2"
   },
   "outputs": [],
   "source": [
    "# PREDICTIONS WITH LOGISTIC REGRESSION\n",
    "test_set_pred=lr.predict(test_set)"
   ]
  },
  {
   "cell_type": "code",
   "execution_count": 41,
   "metadata": {
    "id": "2Uz8pnj_l3y2"
   },
   "outputs": [],
   "source": [
    "submission['Response']=test_set_pred\n",
    "submission.to_csv('my_submission7.csv', index=False)"
   ]
  },
  {
   "cell_type": "code",
   "execution_count": null,
   "metadata": {
    "id": "XPRw2IApl3y2"
   },
   "outputs": [],
   "source": []
  }
 ],
 "metadata": {
  "kernelspec": {
   "display_name": "Python 3",
   "language": "python",
   "name": "python3"
  },
  "language_info": {
   "codemirror_mode": {
    "name": "ipython",
    "version": 3
   },
   "file_extension": ".py",
   "mimetype": "text/x-python",
   "name": "python",
   "nbconvert_exporter": "python",
   "pygments_lexer": "ipython3",
   "version": "3.8.3"
  }
 },
 "nbformat": 4,
 "nbformat_minor": 4
}
